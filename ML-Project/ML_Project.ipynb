{
  "nbformat": 4,
  "nbformat_minor": 0,
  "metadata": {
    "colab": {
      "provenance": []
    },
    "kernelspec": {
      "name": "python3",
      "display_name": "Python 3"
    },
    "language_info": {
      "name": "python"
    }
  },
  "cells": [
    {
      "cell_type": "code",
      "source": [
        "import pandas as pd\n",
        "import numpy as np\n",
        "import matplotlib.pyplot as plt\n",
        "from sklearn.model_selection import train_test_split\n",
        "from sklearn.feature_extraction.text import TfidfVectorizer\n",
        "#TfidfVectorizer, metin verilerini sayısal vektör temsiline dönüştürmek için kullanılan bir metin temsil yöntemidir.\n",
        "#TF-IDF (Term Frequency-Inverse Document Frequency), metinlerdeki kelimelerin önemini değerlendiren bir istatistiksel yöntemdir.\n",
        "#Metinlerdeki kelimelerin frekanslarını ve belge frekanslarını kullanarak metinlerin sayısal bir matrisle temsil edilmesini sağlar.\n",
        "from sklearn.linear_model import LogisticRegression\n",
        "from sklearn.metrics import accuracy_score"
      ],
      "metadata": {
        "id": "-taFR-i5wnov"
      },
      "execution_count": null,
      "outputs": []
    },
    {
      "cell_type": "code",
      "source": [
        "df =pd.read_csv('SMSSpamCollection.csv', sep='\\t', names=['Category','Message'])\n",
        "df"
      ],
      "metadata": {
        "id": "qyXHGtkowswG"
      },
      "execution_count": null,
      "outputs": []
    },
    {
      "cell_type": "code",
      "source": [
        "#Bu işlem, veri setinizde eksik değerlerin bulunduğu durumda, bu eksik değerleri doldurmak için kullanışlıdır.\n",
        "#Eksik değerleri belirli bir değerle doldurarak, veri setinizdeki eksik değerlerin neden olduğu potansiyel hataları önleyebilirsiniz.\n",
        "data = df.where((pd.notnull(df)),'')"
      ],
      "metadata": {
        "id": "rXIJHDnoduOu"
      },
      "execution_count": null,
      "outputs": []
    },
    {
      "cell_type": "code",
      "source": [
        "data.head()"
      ],
      "metadata": {
        "id": "R7gr6sQjec2O"
      },
      "execution_count": null,
      "outputs": []
    },
    {
      "cell_type": "code",
      "source": [
        "data.info()"
      ],
      "metadata": {
        "id": "_Yrex4CJerVO"
      },
      "execution_count": null,
      "outputs": []
    },
    {
      "cell_type": "code",
      "source": [
        "data.shape"
      ],
      "metadata": {
        "id": "iTzTuveVerys"
      },
      "execution_count": null,
      "outputs": []
    },
    {
      "cell_type": "code",
      "source": [
        "# \"spam\" etiketli satırların \"Category\" sütunundaki değeri \"0\" olacaktır.\n",
        "data.loc[data[\"Category\"] == \"spam\", \"Category\",] = 0\n",
        "# \"ham\" etiketli satırların \"Category\" sütunundaki değeri \"1\" olacaktır.\n",
        "data.loc[data[\"Category\"] == \"ham\", \"Category\",] = 1"
      ],
      "metadata": {
        "id": "7mZSZLJWer9s"
      },
      "execution_count": null,
      "outputs": []
    },
    {
      "cell_type": "code",
      "source": [
        "X = data[\"Message\"]\n",
        "\n",
        "Y = data[\"Category\"]"
      ],
      "metadata": {
        "id": "kBQl7HpSesGv"
      },
      "execution_count": null,
      "outputs": []
    },
    {
      "cell_type": "code",
      "source": [
        "print(X)"
      ],
      "metadata": {
        "id": "IWNd61FpesO2"
      },
      "execution_count": null,
      "outputs": []
    },
    {
      "cell_type": "code",
      "source": [
        "print(Y)"
      ],
      "metadata": {
        "id": "s3hlvoC9esbc"
      },
      "execution_count": null,
      "outputs": []
    },
    {
      "cell_type": "code",
      "source": [
        "X_train , X_test , Y_train , Y_test = train_test_split(X,Y,test_size=0.2, random_state=3)"
      ],
      "metadata": {
        "id": "qsF0qqKTeaqm"
      },
      "execution_count": null,
      "outputs": []
    },
    {
      "cell_type": "code",
      "source": [
        "print(X.shape)\n",
        "print(X_train.shape)\n",
        "print(X_test.shape)"
      ],
      "metadata": {
        "id": "CbNXVYmEgVnY"
      },
      "execution_count": null,
      "outputs": []
    },
    {
      "cell_type": "code",
      "source": [
        "print(Y.shape)\n",
        "print(Y_train.shape)\n",
        "print(Y_test.shape)"
      ],
      "metadata": {
        "id": "Zypm2x9sgV1r"
      },
      "execution_count": null,
      "outputs": []
    },
    {
      "cell_type": "markdown",
      "source": [
        "TF (Terim Sıklığı)\n",
        "İlgili kelimenin dökümandaki frekansıdır. Kelimenin dökümanda geçme sayısını, dökümandaki toplam kelime sayısına bölerek elde edilir.\n",
        "\n",
        "DF (Döküman Sıklığı)\n",
        "TF ile benzemektedir ama bu kez diğer dökümanlara odaklanır. Döküman sayısının ilgili kelimenin geçtiği döküman sayısına bölünmesi ile hesaplanır.\n",
        "\n",
        "\n",
        "TfidfVectorizer, metin verilerini TF-IDF matrisine dönüştüren bir vektörleştirici işlevidir. TF-IDF, bir metindeki her kelimenin önemini hesaplamak için kullanılır. Bu yöntem, belirli bir belgedeki bir kelimenin sıklığını belirlerken, tüm belgelerdeki yaygınlığını da hesaba katarak kelimelerin önemini belirler.\n",
        "\n"
      ],
      "metadata": {
        "id": "J7CgUWYZEiGS"
      }
    },
    {
      "cell_type": "code",
      "source": [
        "\n",
        "#TfidfVectorizer kullanarak metin verilerini sayısal özelliklere dönüştürüyor ve ardından veri kümesini eğitim ve test setleri olarak ayırıyor.\n",
        "\n",
        "feature_extraction = TfidfVectorizer(min_df = 1 , stop_words='english',lowercase=True)\n",
        "#min_df=1, en az bir belgede geçen kelimelerin dikkate alınacağı anlamına gelir.\n",
        "#stop_words='english', İngilizce durak kelimelerini (örneğin, \"the\", \"and\", \"in\" gibi yaygın ve anlamsız kelimeleri) kaldırmak için kullanılır.\n",
        "#lowercase=True, tüm metin verilerini küçük harfe dönüştürür.\n",
        "\n",
        "X_train_features = feature_extraction.fit_transform(X_train)\n",
        "X_test_features = feature_extraction.transform(X_test)\n",
        "\n",
        "Y_train = Y_train.astype(\"int\")\n",
        "#Eğitim etiketlerini tamsayı türüne dönüştürür. Bu genellikle makine öğrenimi modelleri için gereklidir çünkü etiketlerin tamsayı türünde olması beklenir.\n",
        "\n",
        "\n",
        "Y_test = Y_test.astype(\"int\")\n",
        "#Test etiketlerini tamsayı türüne dönüştürür. Bu da benzer şekilde makine öğrenimi modelleri için gereklidir.\n",
        "\n"
      ],
      "metadata": {
        "id": "6NTdH-ZJgV8r"
      },
      "execution_count": null,
      "outputs": []
    },
    {
      "cell_type": "code",
      "source": [
        "print(X_train)"
      ],
      "metadata": {
        "id": "3Z6tbAOAgWHF"
      },
      "execution_count": null,
      "outputs": []
    },
    {
      "cell_type": "code",
      "source": [
        "print(X_train_features)"
      ],
      "metadata": {
        "id": "emY59uG3k_f6"
      },
      "execution_count": null,
      "outputs": []
    },
    {
      "cell_type": "code",
      "source": [
        "model = LogisticRegression()"
      ],
      "metadata": {
        "id": "4h2xkdbXlFeI"
      },
      "execution_count": null,
      "outputs": []
    },
    {
      "cell_type": "code",
      "source": [
        "model.fit(X_train_features,Y_train)"
      ],
      "metadata": {
        "id": "45x6tyM_mBOt"
      },
      "execution_count": null,
      "outputs": []
    },
    {
      "cell_type": "code",
      "source": [
        "prediction_on_training_data = model.predict(X_train_features)\n",
        "accuracy_on_training_data = accuracy_score(Y_train,prediction_on_training_data)"
      ],
      "metadata": {
        "id": "xEUcEgevmI0D"
      },
      "execution_count": null,
      "outputs": []
    },
    {
      "cell_type": "code",
      "source": [
        "print('Acc on training data: ',accuracy_on_training_data)"
      ],
      "metadata": {
        "id": "vy9VmVH_mpKY",
        "colab": {
          "base_uri": "https://localhost:8080/"
        },
        "outputId": "bb6fa0ea-67a8-49ab-a16d-831d8752aa10"
      },
      "execution_count": null,
      "outputs": [
        {
          "output_type": "stream",
          "name": "stdout",
          "text": [
            "Acc on training data:  0.9679156383217411\n"
          ]
        }
      ]
    },
    {
      "cell_type": "code",
      "source": [
        "prediction_on_test_data = model.predict(X_test_features)\n",
        "accuracy_on_test_data = accuracy_score(Y_test,prediction_on_test_data)"
      ],
      "metadata": {
        "id": "110KwV4gnBEa"
      },
      "execution_count": null,
      "outputs": []
    },
    {
      "cell_type": "code",
      "source": [
        "print('Acc on test data: ',accuracy_on_test_data)"
      ],
      "metadata": {
        "id": "T7TKlqSYnUkk",
        "colab": {
          "base_uri": "https://localhost:8080/"
        },
        "outputId": "2ae2022e-b49b-4fe6-966f-e2236e54b05f"
      },
      "execution_count": null,
      "outputs": [
        {
          "output_type": "stream",
          "name": "stdout",
          "text": [
            "Acc on test data:  0.9659192825112107\n"
          ]
        }
      ]
    },
    {
      "cell_type": "code",
      "source": [
        "input_your_mail = [\"Free entry in 2 a wkly comp to win FA Cup final tkts 21st May 2005. Text FA to 87121 to receive entry question(std txt rate)T&C's apply 08452810075over18's\"]\n",
        "\n",
        "input_data_features = feature_extraction.transform(input_your_mail)\n",
        "\n",
        "prediction = model.predict(input_data_features)"
      ],
      "metadata": {
        "id": "TVBWx3HMnmD6"
      },
      "execution_count": null,
      "outputs": []
    },
    {
      "cell_type": "code",
      "source": [
        "print(prediction)\n",
        "\n",
        "if(prediction[0] == 1):\n",
        "  print(\"Ham mail\")\n",
        "\n",
        "else:\n",
        "  print(\"Spam mail\")"
      ],
      "metadata": {
        "id": "W1wTG_2ko6n8",
        "colab": {
          "base_uri": "https://localhost:8080/"
        },
        "outputId": "fea3abd8-5ca0-42ac-a787-a5c6caad9953"
      },
      "execution_count": null,
      "outputs": [
        {
          "output_type": "stream",
          "name": "stdout",
          "text": [
            "[0]\n",
            "Spam mail\n"
          ]
        }
      ]
    }
  ]
}